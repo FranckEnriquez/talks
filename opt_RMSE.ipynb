{
 "cells": [
  {
   "cell_type": "code",
   "execution_count": 3,
   "metadata": {},
   "outputs": [],
   "source": [
    "\"\"\"\n",
    "Created on Thu Nov 28 13:29:01 2019\n",
    "\n",
    "@author: Franck Enríquez & Nazrul\n",
    "\"\"\"\n",
    "import numpy as np\n",
    "\n",
    "class opt_RMSE:\n",
    "    \n",
    "    def std_filter(std_value,dataframe,companie):  \n",
    "    \n",
    "        \n",
    "        #Getting dominant values based on std_value\n",
    "        meanAmp = dataframe['amplitude'].mean()\n",
    "        stdAmp = dataframe['amplitude'].std()\n",
    "        dominantAmpCheck = dataframe['amplitude'] > (std_value*stdAmp + meanAmp) \n",
    "        positiveFreqCheck = dataframe['freq'] > 0\n",
    "        dominantAmp = (dataframe['amplitude'][dominantAmpCheck & positiveFreqCheck]).reset_index(drop=True)\n",
    "        dominantFreq = (dataframe['amplitude'][dominantAmpCheck & positiveFreqCheck]).reset_index(drop=True)\n",
    "        dominantTheta = (dataframe['amplitude'][dominantAmpCheck & positiveFreqCheck]).reset_index(drop=True)\n",
    "\n",
    "        #Calculating Regression Delta\n",
    "        regressionDelta = 0\n",
    "        for n in range(len(dominantTheta)):\n",
    "            shift = dominantTheta[n]\n",
    "            regressionDelta += dominantAmp[n] * np.cos(n * np.array(range(len(df))) + shift)\n",
    "\n",
    "        #Converting Delta Time to Time at start value of real data    \n",
    "        startValue = dataframe[companie]\n",
    "        regression = startValue - np.cumsum(regressionDelta)\n",
    "\n",
    "        #Calculating RMSE\n",
    "        rmse = np.sqrt(np.mean((dataframe[companie].values - regression)**2))\n",
    "\n",
    "        if np.isnan(rmse):\n",
    "            rmse = 10000000000000\n",
    "    \n",
    "        return rmse"
   ]
  }
 ],
 "metadata": {
  "kernelspec": {
   "display_name": "Python 3",
   "language": "python",
   "name": "python3"
  },
  "language_info": {
   "codemirror_mode": {
    "name": "ipython",
    "version": 3
   },
   "file_extension": ".py",
   "mimetype": "text/x-python",
   "name": "python",
   "nbconvert_exporter": "python",
   "pygments_lexer": "ipython3",
   "version": "3.7.5"
  }
 },
 "nbformat": 4,
 "nbformat_minor": 2
}
